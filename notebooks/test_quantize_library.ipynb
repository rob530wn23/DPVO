{
 "cells": [
  {
   "cell_type": "code",
   "execution_count": 416,
   "metadata": {},
   "outputs": [],
   "source": [
    "import cv2\n",
    "import glob\n",
    "import os\n",
    "import datetime\n",
    "import numpy as np\n",
    "import os.path as osp\n",
    "from pathlib import Path\n",
    "\n",
    "import torch\n",
    "from dpvo.dpvo import DPVO\n",
    "from dpvo.utils import Timer\n",
    "from dpvo.config import cfg\n",
    "\n",
    "import torch\n",
    "import numpy as np\n",
    "import torch.nn.functional as F\n",
    "\n",
    "from dpvo.extractor import * \n",
    "\n",
    "import torch.quantization.quantize_fx as quantize_fx\n",
    "import copy\n",
    "\n",
    "from pprint import pprint"
   ]
  },
  {
   "cell_type": "code",
   "execution_count": 46,
   "metadata": {},
   "outputs": [],
   "source": [
    "config = \"../config/default.yaml\"\n",
    "# DPVO.load_weights(cfg.merge_from_file(config) ,\"../dpvo.pth\")\n",
    "\n",
    "slam = DPVO(cfg, \"../dpvo.pth\", ht=480, wd=640, viz=False)\n"
   ]
  },
  {
   "cell_type": "code",
   "execution_count": 52,
   "metadata": {},
   "outputs": [],
   "source": [
    "extractor = slam.network.patchify.fnet"
   ]
  },
  {
   "cell_type": "code",
   "execution_count": 140,
   "metadata": {},
   "outputs": [
    {
     "data": {
      "text/plain": [
       "_IncompatibleKeys(missing_keys=['norm1.weight', 'norm1.bias', 'norm1.running_mean', 'norm1.running_var', 'conv1.weight', 'conv1.bias', 'layer1.0.conv1.weight', 'layer1.0.conv1.bias', 'layer1.0.conv2.weight', 'layer1.0.conv2.bias', 'layer1.0.norm1.weight', 'layer1.0.norm1.bias', 'layer1.0.norm1.running_mean', 'layer1.0.norm1.running_var', 'layer1.0.norm2.weight', 'layer1.0.norm2.bias', 'layer1.0.norm2.running_mean', 'layer1.0.norm2.running_var', 'layer1.1.conv1.weight', 'layer1.1.conv1.bias', 'layer1.1.conv2.weight', 'layer1.1.conv2.bias', 'layer1.1.norm1.weight', 'layer1.1.norm1.bias', 'layer1.1.norm1.running_mean', 'layer1.1.norm1.running_var', 'layer1.1.norm2.weight', 'layer1.1.norm2.bias', 'layer1.1.norm2.running_mean', 'layer1.1.norm2.running_var', 'layer2.0.conv1.weight', 'layer2.0.conv1.bias', 'layer2.0.conv2.weight', 'layer2.0.conv2.bias', 'layer2.0.norm1.weight', 'layer2.0.norm1.bias', 'layer2.0.norm1.running_mean', 'layer2.0.norm1.running_var', 'layer2.0.norm2.weight', 'layer2.0.norm2.bias', 'layer2.0.norm2.running_mean', 'layer2.0.norm2.running_var', 'layer2.0.norm3.weight', 'layer2.0.norm3.bias', 'layer2.0.norm3.running_mean', 'layer2.0.norm3.running_var', 'layer2.0.downsample.0.weight', 'layer2.0.downsample.0.bias', 'layer2.0.downsample.1.weight', 'layer2.0.downsample.1.bias', 'layer2.0.downsample.1.running_mean', 'layer2.0.downsample.1.running_var', 'layer2.1.conv1.weight', 'layer2.1.conv1.bias', 'layer2.1.conv2.weight', 'layer2.1.conv2.bias', 'layer2.1.norm1.weight', 'layer2.1.norm1.bias', 'layer2.1.norm1.running_mean', 'layer2.1.norm1.running_var', 'layer2.1.norm2.weight', 'layer2.1.norm2.bias', 'layer2.1.norm2.running_mean', 'layer2.1.norm2.running_var', 'conv2.weight', 'conv2.bias'], unexpected_keys=['module.patchify.fnet.conv1.weight', 'module.patchify.fnet.conv1.bias', 'module.patchify.fnet.layer1.0.conv1.weight', 'module.patchify.fnet.layer1.0.conv1.bias', 'module.patchify.fnet.layer1.0.conv2.weight', 'module.patchify.fnet.layer1.0.conv2.bias', 'module.patchify.fnet.layer1.1.conv1.weight', 'module.patchify.fnet.layer1.1.conv1.bias', 'module.patchify.fnet.layer1.1.conv2.weight', 'module.patchify.fnet.layer1.1.conv2.bias', 'module.patchify.fnet.layer2.0.conv1.weight', 'module.patchify.fnet.layer2.0.conv1.bias', 'module.patchify.fnet.layer2.0.conv2.weight', 'module.patchify.fnet.layer2.0.conv2.bias', 'module.patchify.fnet.layer2.0.downsample.0.weight', 'module.patchify.fnet.layer2.0.downsample.0.bias', 'module.patchify.fnet.layer2.1.conv1.weight', 'module.patchify.fnet.layer2.1.conv1.bias', 'module.patchify.fnet.layer2.1.conv2.weight', 'module.patchify.fnet.layer2.1.conv2.bias', 'module.patchify.fnet.conv2.weight', 'module.patchify.fnet.conv2.bias', 'module.patchify.inet.conv1.weight', 'module.patchify.inet.conv1.bias', 'module.patchify.inet.layer1.0.conv1.weight', 'module.patchify.inet.layer1.0.conv1.bias', 'module.patchify.inet.layer1.0.conv2.weight', 'module.patchify.inet.layer1.0.conv2.bias', 'module.patchify.inet.layer1.1.conv1.weight', 'module.patchify.inet.layer1.1.conv1.bias', 'module.patchify.inet.layer1.1.conv2.weight', 'module.patchify.inet.layer1.1.conv2.bias', 'module.patchify.inet.layer2.0.conv1.weight', 'module.patchify.inet.layer2.0.conv1.bias', 'module.patchify.inet.layer2.0.conv2.weight', 'module.patchify.inet.layer2.0.conv2.bias', 'module.patchify.inet.layer2.0.downsample.0.weight', 'module.patchify.inet.layer2.0.downsample.0.bias', 'module.patchify.inet.layer2.1.conv1.weight', 'module.patchify.inet.layer2.1.conv1.bias', 'module.patchify.inet.layer2.1.conv2.weight', 'module.patchify.inet.layer2.1.conv2.bias', 'module.patchify.inet.conv2.weight', 'module.patchify.inet.conv2.bias', 'module.update.c1.0.weight', 'module.update.c1.0.bias', 'module.update.c1.2.weight', 'module.update.c1.2.bias', 'module.update.c2.0.weight', 'module.update.c2.0.bias', 'module.update.c2.2.weight', 'module.update.c2.2.bias', 'module.update.norm.weight', 'module.update.norm.bias', 'module.update.agg_kk.f.weight', 'module.update.agg_kk.f.bias', 'module.update.agg_kk.g.weight', 'module.update.agg_kk.g.bias', 'module.update.agg_kk.h.weight', 'module.update.agg_kk.h.bias', 'module.update.agg_ij.f.weight', 'module.update.agg_ij.f.bias', 'module.update.agg_ij.g.weight', 'module.update.agg_ij.g.bias', 'module.update.agg_ij.h.weight', 'module.update.agg_ij.h.bias', 'module.update.gru.0.weight', 'module.update.gru.0.bias', 'module.update.gru.1.gate.0.weight', 'module.update.gru.1.gate.0.bias', 'module.update.gru.1.res.0.weight', 'module.update.gru.1.res.0.bias', 'module.update.gru.1.res.2.weight', 'module.update.gru.1.res.2.bias', 'module.update.gru.2.weight', 'module.update.gru.2.bias', 'module.update.gru.3.gate.0.weight', 'module.update.gru.3.gate.0.bias', 'module.update.gru.3.res.0.weight', 'module.update.gru.3.res.0.bias', 'module.update.gru.3.res.2.weight', 'module.update.gru.3.res.2.bias', 'module.update.corr.0.weight', 'module.update.corr.0.bias', 'module.update.corr.2.weight', 'module.update.corr.2.bias', 'module.update.corr.3.weight', 'module.update.corr.3.bias', 'module.update.corr.5.weight', 'module.update.corr.5.bias', 'module.update.d.1.weight', 'module.update.d.1.bias', 'module.update.w.1.weight', 'module.update.w.1.bias', 'module.update.lmbda.0.weight', 'module.update.lmbda.0.bias', 'module.update.lmbda.2.weight', 'module.update.lmbda.2.bias'])"
      ]
     },
     "execution_count": 140,
     "metadata": {},
     "output_type": "execute_result"
    }
   ],
   "source": [
    "checkpoint = \"../dpvo.pth\"\n",
    "\n",
    "\n",
    "\n",
    "direct = BasicEncoder4()\n",
    "\n",
    "direct.load_state_dict(torch.load(checkpoint, map_location=torch.device('cpu')), strict=False)\n",
    "\n"
   ]
  },
  {
   "cell_type": "code",
   "execution_count": 63,
   "metadata": {},
   "outputs": [],
   "source": [
    "import functools\n",
    "# See https://stackoverflow.com/questions/31174295/getattr-and-setattr-on-nested-objects\n",
    "def rsetattr(obj, attr, val):\n",
    "    pre, _, post = attr.rpartition('.')\n",
    "    return setattr(rgetattr(obj, pre) if pre else obj, post, val)\n",
    "\n",
    "# using wonder's beautiful simplification: https://stackoverflow.com/questions/31174295/getattr-and-setattr-on-nested-objects/31174427?noredirect=1#comment86638618_31174427\n",
    "\n",
    "def rgetattr(obj, attr, *args):\n",
    "    def _getattr(obj, attr):\n",
    "        return getattr(obj, attr, *args)\n",
    "    return functools.reduce(_getattr, [obj] + attr.split('.'))"
   ]
  },
  {
   "cell_type": "code",
   "execution_count": 302,
   "metadata": {},
   "outputs": [],
   "source": [
    "trained = rgetattr(extractor.conv1, 'weight')\n",
    "\n",
    "d_weights = rgetattr(direct.conv1, 'weight')\n"
   ]
  },
  {
   "cell_type": "code",
   "execution_count": 458,
   "metadata": {},
   "outputs": [],
   "source": [
    "# def quantize_model(model, args): \n",
    "#     bits = 6\n",
    "#     for i in range(0, len(model.features)): \n",
    "#         l = model.features[i]\n",
    "#         if type(l) == nn.Conv2d:\n",
    "#             model.features[i] = QConv2d('uniform', bits,l.weight, *(l.in_channels, l.out_channels, l.kernel_size, l.stride, l.padding))\n",
    "#         elif type(l) == Fire:\n",
    "#             l.squeeze = QConv2d('uniform', bits, l.squeeze.weight, *(l.squeeze.in_channels, l.squeeze.out_channels, l.squeeze.kernel_size, l.squeeze.stride, l.squeeze.padding))\n",
    "#             l.expand1x1 = QConv2d('uniform', bits, l.expand1x1.weight, *(l.expand1x1.in_channels, l.expand1x1.out_channels, l.expand1x1.kernel_size, l.expand1x1.stride, l.expand1x1.padding))\n",
    "#             l.expand3x3 = QConv2d('uniform', bits, l.expand3x3.weight, *(l.expand3x3.in_channels, l.expand3x3.out_channels, l.expand3x3.kernel_size, l.expand3x3.stride, l.expand3x3.padding))\n",
    "\n",
    "#     for i in range(0, len(model.classifier)):\n",
    "#         if type(model.classifier[i]) == nn.Conv2d:\n",
    "#             l = model.classifier[i]\n",
    "#             model.classifier[i] = QConv2d('uniform', bits, l.weight, *(l.in_channels, l.out_channels, l.kernel_size, l.stride, l.padding)) \n",
    "    \n",
    "#     return model\n",
    "\n",
    "\n",
    "def quantize_uniform(data, n_bits, clip, device='cuda'): \n",
    "    clip = .5\n",
    "    w_c = data.clamp(-clip, clip)\n",
    "    b = torch.pow(torch.tensor(2.0), 1 - n_bits).to(device)\n",
    "    w_q = clip * torch.min(b * torch.round(w_c / (b * clip)), 1 - b) \n",
    "    return w_q\n",
    "\n",
    "\n",
    "class QConv2d(nn.Conv2d):\n",
    "    def __init__(self, quant_scheme, quant_args=None, init_args=None, b=None, *kargs, **kwargs):\n",
    "        super(QConv2d, self).__init__(*kargs, **kwargs) \n",
    "        self.weight = init_args\n",
    "        self.bias = b\n",
    "        self.quant_args = quant_args\n",
    "\n",
    "        for k, v in kwargs.items():\n",
    "            setattr(self, k, v)\n",
    "\n",
    "\n",
    "        print(\"setting bias to \", self.bias.shape)\n",
    "\n",
    "    def forward(self, inputs):\n",
    "        self.quantize_params()\n",
    "        return F.conv2d(inputs, self.weight, self.bias, self.stride, self.padding, self.dilation, self.groups)\n",
    "\n",
    "    def quantize_params(self):\n",
    "        unquantized_weights = rgetattr(self,'weight')\n",
    "        # self.bias = rgetattr(self,'bias')\n",
    "        quantized_weights = torch.nn.Parameter(quantize_uniform(unquantized_weights,self.quant_args,1,'cpu')) \n",
    "        # print(quantized_weights)\n",
    "        rsetattr(self, 'weight', quantized_weights)\n",
    "        return\n"
   ]
  },
  {
   "cell_type": "code",
   "execution_count": 459,
   "metadata": {},
   "outputs": [],
   "source": [
    "copy_model = copy.deepcopy(extractor)\n",
    "\n",
    "layers = dict(copy_model.named_modules())"
   ]
  },
  {
   "cell_type": "code",
   "execution_count": 460,
   "metadata": {},
   "outputs": [
    {
     "data": {
      "text/plain": [
       "torch.Size([128, 64, 1, 1])"
      ]
     },
     "execution_count": 460,
     "metadata": {},
     "output_type": "execute_result"
    }
   ],
   "source": [
    "copy_model.conv2.weight.shape"
   ]
  },
  {
   "cell_type": "code",
   "execution_count": 480,
   "metadata": {},
   "outputs": [
    {
     "name": "stdout",
     "output_type": "stream",
     "text": [
      "haodaod torch.Size([32, 3, 7, 7])\n",
      "little piece of shit torch.Size([32])\n",
      "setting bias to  torch.Size([32])\n",
      "haodaod torch.Size([32, 32, 3, 3])\n",
      "little piece of shit torch.Size([32])\n",
      "setting bias to  torch.Size([32])\n",
      "haodaod torch.Size([32, 32, 3, 3])\n",
      "little piece of shit torch.Size([32])\n",
      "setting bias to  torch.Size([32])\n",
      "haodaod torch.Size([32, 32, 3, 3])\n",
      "little piece of shit torch.Size([32])\n",
      "setting bias to  torch.Size([32])\n",
      "haodaod torch.Size([32, 32, 3, 3])\n",
      "little piece of shit torch.Size([32])\n",
      "setting bias to  torch.Size([32])\n",
      "haodaod torch.Size([64, 32, 3, 3])\n",
      "little piece of shit torch.Size([64])\n",
      "setting bias to  torch.Size([64])\n",
      "haodaod torch.Size([64, 64, 3, 3])\n",
      "little piece of shit torch.Size([64])\n",
      "setting bias to  torch.Size([64])\n",
      "haodaod torch.Size([64, 64, 3, 3])\n",
      "little piece of shit torch.Size([64])\n",
      "setting bias to  torch.Size([64])\n",
      "haodaod torch.Size([64, 64, 3, 3])\n",
      "little piece of shit torch.Size([64])\n",
      "setting bias to  torch.Size([64])\n",
      "haodaod torch.Size([128, 64, 1, 1])\n",
      "little piece of shit torch.Size([128])\n",
      "setting bias to  torch.Size([128])\n"
     ]
    }
   ],
   "source": [
    "conv_layers = []\n",
    "for item in layers:\n",
    "    if \"conv\" in item:\n",
    "        conv_layers.append(item)\n",
    "        W = layers[item].weight\n",
    "        print(\"haodaod\", W.shape)\n",
    "\n",
    "        kwargs = {\n",
    "            \"in_channels\": W.shape[0],\n",
    "            \"out_channels\": W.shape[1],\n",
    "            \"kernel_size\": W.shape[2],\n",
    "            \"stride\": layers[item].stride[0],\n",
    "            \"padding\": layers[item].padding[0],\n",
    "            \"dilation\": layers[item].dilation[0],\n",
    "            \"groups\": layers[item].groups,\n",
    "            # \"bias\": layers[item].bias,\n",
    "        }\n",
    "\n",
    "        print(\"little piece of shit\" , layers[item].bias.shape)\n",
    "        b = layers[item].bias\n",
    "\n",
    "        new_layer = QConv2d('uniform', 8, W, b, **kwargs)        \n",
    "        setattr(copy_model, item, new_layer)"
   ]
  },
  {
   "cell_type": "code",
   "execution_count": 483,
   "metadata": {},
   "outputs": [],
   "source": [
    "for item in conv_layers:\n",
    "    getattr(copy_model, item).quantize_params()"
   ]
  },
  {
   "cell_type": "code",
   "execution_count": 486,
   "metadata": {},
   "outputs": [
    {
     "data": {
      "text/plain": [
       "torch.Size([128])"
      ]
     },
     "execution_count": 486,
     "metadata": {},
     "output_type": "execute_result"
    }
   ],
   "source": [
    "copy_model.conv2.bias.shape"
   ]
  },
  {
   "cell_type": "code",
   "execution_count": 487,
   "metadata": {},
   "outputs": [
    {
     "data": {
      "text/plain": [
       "torch.Size([128])"
      ]
     },
     "execution_count": 487,
     "metadata": {},
     "output_type": "execute_result"
    }
   ],
   "source": [
    "extractor.conv2.bias.shape"
   ]
  },
  {
   "cell_type": "code",
   "execution_count": null,
   "metadata": {},
   "outputs": [],
   "source": []
  },
  {
   "cell_type": "code",
   "execution_count": 470,
   "metadata": {},
   "outputs": [
    {
     "data": {
      "image/png": "[encoded data removed]",
      "text/plain": [
       "<Figure size 640x480 with 1 Axes>"
      ]
     },
     "metadata": {},
     "output_type": "display_data"
    }
   ],
   "source": [
    "weights = extractor.conv1.weight.view(-1)\n",
    "weights = weights.cpu().detach().numpy()\n",
    "\n",
    "w_quantize = copy_model.conv1.weight.view(-1)\n",
    "w_quantize = w_quantize.cpu().detach().numpy()\n",
    "\n",
    "\n",
    "# # plot weighst as a histogram\n",
    "import matplotlib.pyplot as plt\n",
    "plt.hist(weights, bins=50, alpha=0.5, label=\"float32\")\n",
    "plt.hist(w_quantize, bins=50, alpha=0.5, label=\"4 bits\")\n",
    "plt.title(\"Layer Weights Distribution vs Bit Quantization\")\n",
    "plt.legend()\n",
    "plt.show()\n",
    "\n"
   ]
  },
  {
   "cell_type": "code",
   "execution_count": 374,
   "metadata": {},
   "outputs": [],
   "source": [
    "# import torch.quantization.quantize_fx as quantize_fx\n",
    "# import copy\n",
    "\n",
    "# copy_model.eval()\n",
    "\n",
    "# qconfig_dict = {\"\": torch.quantization.default_dynamic_qconfig}\n",
    "# model_prepared = quantize_fx.prepare_fx(copy_model, qconfig_dict)\n",
    "# copy_model = quantize_fx.convert_fx(model_prepared)"
   ]
  },
  {
   "cell_type": "code",
   "execution_count": 497,
   "metadata": {},
   "outputs": [],
   "source": [
    "x = torch.rand(1,3,3,224,224, dtype=torch.float32).cuda()\n",
    "copyx = copy_model(x)\n",
    "regx = extractor(x)\n",
    "\n"
   ]
  },
  {
   "cell_type": "code",
   "execution_count": 498,
   "metadata": {},
   "outputs": [
    {
     "data": {
      "text/plain": [
       "tensor([-0.6746,  0.2009,  1.1632,  0.8417,  0.3978], device='cuda:0',\n",
       "       grad_fn=<SliceBackward0>)"
      ]
     },
     "execution_count": 498,
     "metadata": {},
     "output_type": "execute_result"
    }
   ],
   "source": [
    "copyx.view(-1)[0:5]"
   ]
  },
  {
   "cell_type": "code",
   "execution_count": 499,
   "metadata": {},
   "outputs": [
    {
     "data": {
      "text/plain": [
       "tensor([-0.6633,  0.2104,  1.1705,  0.8555,  0.3979], device='cuda:0',\n",
       "       grad_fn=<SliceBackward0>)"
      ]
     },
     "execution_count": 499,
     "metadata": {},
     "output_type": "execute_result"
    }
   ],
   "source": [
    "regx.view(-1)[0:5]"
   ]
  },
  {
   "cell_type": "code",
   "execution_count": 306,
   "metadata": {},
   "outputs": [
    {
     "name": "stdout",
     "output_type": "stream",
     "text": [
      "model size: 0.692MB\n"
     ]
    }
   ],
   "source": [
    "model = copy_model\n",
    "param_size = 0\n",
    "for param in model.parameters():\n",
    "    param_size += param.nelement() * param.element_size()\n",
    "buffer_size = 0\n",
    "for buffer in model.buffers():\n",
    "    buffer_size += buffer.nelement() * buffer.element_size()\n",
    "\n",
    "size_all_mb = (param_size + buffer_size) / 1024**2\n",
    "print('model size: {:.3f}MB'.format(size_all_mb))"
   ]
  }
 ],
 "metadata": {
  "kernelspec": {
   "display_name": "coppelia",
   "language": "python",
   "name": "python3"
  },
  "language_info": {
   "codemirror_mode": {
    "name": "ipython",
    "version": 3
   },
   "file_extension": ".py",
   "mimetype": "text/x-python",
   "name": "python",
   "nbconvert_exporter": "python",
   "pygments_lexer": "ipython3",
   "version": "3.8.13"
  },
  "orig_nbformat": 4
 },
 "nbformat": 4,
 "nbformat_minor": 2
}
