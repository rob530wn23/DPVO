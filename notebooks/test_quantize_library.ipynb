{
 "cells": [
  {
   "cell_type": "code",
   "execution_count": 1,
   "metadata": {},
   "outputs": [],
   "source": [
    "import cv2\n",
    "import glob\n",
    "import os\n",
    "import datetime\n",
    "import numpy as np\n",
    "import os.path as osp\n",
    "from pathlib import Path\n",
    "\n",
    "import torch\n",
    "from dpvo.dpvo import DPVO\n",
    "from dpvo.utils import Timer\n",
    "from dpvo.config import cfg\n",
    "\n",
    "import torch\n",
    "import numpy as np\n",
    "import torch.nn.functional as F\n",
    "\n",
    "from dpvo.extractor import * \n",
    "\n",
    "import torch.quantization.quantize_fx as quantize_fx\n",
    "import copy\n",
    "\n",
    "from pprint import pprint\n",
    "from dpvo.q_extractor import *\n",
    "\n",
    "\n",
    "from dpvo.net import *"
   ]
  },
  {
   "cell_type": "code",
   "execution_count": 2,
   "metadata": {},
   "outputs": [],
   "source": [
    "config = \"../config/default.yaml\"\n",
    "# DPVO.load_weights(cfg.merge_from_file(config) ,\"../dpvo.pth\")\n",
    "\n",
    "slam = DPVO(cfg, \"../dpvo.pth\", ht=480, wd=640, viz=False)\n"
   ]
  },
  {
   "cell_type": "code",
   "execution_count": 12,
   "metadata": {},
   "outputs": [],
   "source": [
    "extractor = slam.network.patchify.fnet"
   ]
  },
  {
   "cell_type": "code",
   "execution_count": 4,
   "metadata": {},
   "outputs": [],
   "source": [
    "import functools\n",
    "def rsetattr(obj, attr, val):\n",
    "    pre, _, post = attr.rpartition('.')\n",
    "    return setattr(rgetattr(obj, pre) if pre else obj, post, val)\n",
    "\n",
    "def rgetattr(obj, attr, *args):\n",
    "    def _getattr(obj, attr):\n",
    "        return getattr(obj, attr, *args)\n",
    "    return functools.reduce(_getattr, [obj] + attr.split('.'))"
   ]
  },
  {
   "cell_type": "code",
   "execution_count": 505,
   "metadata": {},
   "outputs": [],
   "source": [
    "\n",
    "def quantize_uniform(data, n_bits, clip, device='cuda'): \n",
    "    clip = .5\n",
    "    w_c = data.clamp(-clip, clip)\n",
    "    b = torch.pow(torch.tensor(2.0), 1 - n_bits).to(device)\n",
    "    w_q = clip * torch.min(b * torch.round(w_c / (b * clip)), 1 - b) \n",
    "    return w_q\n",
    "\n",
    "\n",
    "class QConv2d(nn.Conv2d):\n",
    "    def __init__(self, quant_scheme, quant_args=None, init_args=None, b=None, *kargs, **kwargs):\n",
    "        super(QConv2d, self).__init__(*kargs, **kwargs) \n",
    "        self.weight = init_args\n",
    "        self.bias = b\n",
    "        self.quant_args = quant_args\n",
    "\n",
    "        for k, v in kwargs.items():\n",
    "            setattr(self, k, v)\n",
    "\n",
    "    def forward(self, inputs):\n",
    "        self.quantize_params()\n",
    "        return F.conv2d(inputs, self.weight, self.bias, self.stride, self.padding, self.dilation, self.groups)\n",
    "\n",
    "    def quantize_params(self):\n",
    "        unquantized_weights = rgetattr(self,'weight')\n",
    "        # self.bias = rgetattr(self,'bias')\n",
    "        quantized_weights = torch.nn.Parameter(quantize_uniform(unquantized_weights,self.quant_args,1,'cpu')) \n",
    "        # print(quantized_weights)\n",
    "        rsetattr(self, 'weight', quantized_weights)\n",
    "        return\n"
   ]
  },
  {
   "cell_type": "code",
   "execution_count": 5,
   "metadata": {},
   "outputs": [],
   "source": [
    "copy_model = copy.deepcopy(extractor)\n",
    "\n",
    "layers = dict(copy_model.named_modules())"
   ]
  },
  {
   "cell_type": "code",
   "execution_count": 507,
   "metadata": {},
   "outputs": [
    {
     "data": {
      "text/plain": [
       "torch.Size([128, 64, 1, 1])"
      ]
     },
     "execution_count": 507,
     "metadata": {},
     "output_type": "execute_result"
    }
   ],
   "source": [
    "copy_model.conv2.weight.shape"
   ]
  },
  {
   "cell_type": "code",
   "execution_count": 575,
   "metadata": {},
   "outputs": [],
   "source": [
    "conv_layers = []\n",
    "for item in layers:\n",
    "    if \"conv\" in item:\n",
    "        conv_layers.append(item)\n",
    "        W = layers[item].weight\n",
    "        \n",
    "        kwargs = {\n",
    "            \"in_channels\": W.shape[0],\n",
    "            \"out_channels\": W.shape[1],\n",
    "            \"kernel_size\": W.shape[2],\n",
    "            \"stride\": layers[item].stride[0],\n",
    "            \"padding\": layers[item].padding[0],\n",
    "            \"dilation\": layers[item].dilation[0],\n",
    "            \"groups\": layers[item].groups,\n",
    "        }\n",
    "\n",
    "        b = layers[item].bias\n",
    "        new_layer = QConv2d('uniform', 6, W, b, **kwargs)        \n",
    "        setattr(copy_model, item, new_layer)"
   ]
  },
  {
   "cell_type": "code",
   "execution_count": 574,
   "metadata": {},
   "outputs": [],
   "source": [
    "w8 = w_quantize.copy()"
   ]
  },
  {
   "cell_type": "code",
   "execution_count": 576,
   "metadata": {},
   "outputs": [],
   "source": [
    "for item in conv_layers:\n",
    "    getattr(copy_model, item).quantize_params()"
   ]
  },
  {
   "cell_type": "code",
   "execution_count": 580,
   "metadata": {},
   "outputs": [
    {
     "data": {
      "image/png": "[encoded data removed]",
      "text/plain": [
       "<Figure size 640x480 with 1 Axes>"
      ]
     },
     "metadata": {},
     "output_type": "display_data"
    }
   ],
   "source": [
    "weights = extractor.conv1.weight.view(-1)\n",
    "weights = weights.cpu().detach().numpy()\n",
    "\n",
    "w_quantize = copy_model.conv1.weight.view(-1)\n",
    "w_quantize = w_quantize.cpu().detach().numpy()\n",
    "\n",
    "\n",
    "# # plot weighst as a histogram\n",
    "import matplotlib.pyplot as plt\n",
    "# plt.hist(weights, bins=50, alpha=0.3, label=\"float32\")\n",
    "plt.hist(w16, bins=50, color='lightgreen', alpha=0.3, label=\"16 bit\")\n",
    "plt.hist(w8, bins=50, alpha=0.3, label=\"8 bit\")\n",
    "plt.hist(w_quantize, bins=50, color=\"purple\", alpha=0.3, label=\"6 bit\")\n",
    "\n",
    "\n",
    "plt.title(\"Layer Weight Distribution vs Number of Bits\")\n",
    "plt.xlabel(\"Weight Value\")\n",
    "plt.ylabel(\"Frequency\")\n",
    "plt.legend()\n",
    "plt.show()\n",
    "\n"
   ]
  },
  {
   "cell_type": "code",
   "execution_count": 374,
   "metadata": {},
   "outputs": [],
   "source": [
    "# import torch.quantization.quantize_fx as quantize_fx\n",
    "# import copy\n",
    "\n",
    "# copy_model.eval()\n",
    "\n",
    "# qconfig_dict = {\"\": torch.quantization.default_dynamic_qconfig}\n",
    "# model_prepared = quantize_fx.prepare_fx(copy_model, qconfig_dict)\n",
    "# copy_model = quantize_fx.convert_fx(model_prepared)"
   ]
  },
  {
   "cell_type": "code",
   "execution_count": 6,
   "metadata": {},
   "outputs": [],
   "source": [
    "x = torch.rand(1,3,3,224,224, dtype=torch.float32).cuda()\n",
    "copyx = copy_model(x)\n",
    "regx = extractor(x)\n",
    "\n"
   ]
  },
  {
   "cell_type": "code",
   "execution_count": 528,
   "metadata": {},
   "outputs": [
    {
     "data": {
      "text/plain": [
       "tensor([-0.6746,  0.2009,  1.1632,  0.8417,  0.3978], device='cuda:0',\n",
       "       grad_fn=<SliceBackward0>)"
      ]
     },
     "execution_count": 528,
     "metadata": {},
     "output_type": "execute_result"
    }
   ],
   "source": [
    "copyx.view(-1)[0:5]"
   ]
  },
  {
   "cell_type": "code",
   "execution_count": 529,
   "metadata": {},
   "outputs": [
    {
     "data": {
      "text/plain": [
       "tensor([-0.6633,  0.2104,  1.1705,  0.8555,  0.3979], device='cuda:0',\n",
       "       grad_fn=<SliceBackward0>)"
      ]
     },
     "execution_count": 529,
     "metadata": {},
     "output_type": "execute_result"
    }
   ],
   "source": [
    "regx.view(-1)[0:5]"
   ]
  },
  {
   "cell_type": "code",
   "execution_count": 306,
   "metadata": {},
   "outputs": [
    {
     "name": "stdout",
     "output_type": "stream",
     "text": [
      "model size: 0.692MB\n"
     ]
    }
   ],
   "source": [
    "model = copy_model\n",
    "param_size = 0\n",
    "for param in model.parameters():\n",
    "    param_size += param.nelement() * param.element_size()\n",
    "buffer_size = 0\n",
    "for buffer in model.buffers():\n",
    "    buffer_size += buffer.nelement() * buffer.element_size()\n",
    "\n",
    "size_all_mb = (param_size + buffer_size) / 1024**2\n",
    "print('model size: {:.3f}MB'.format(size_all_mb))"
   ]
  },
  {
   "cell_type": "code",
   "execution_count": 8,
   "metadata": {},
   "outputs": [],
   "source": [
    "q_extractor = QuantizedEncoder()\n",
    "q_extractor.copy_params(extractor)"
   ]
  },
  {
   "cell_type": "code",
   "execution_count": 9,
   "metadata": {},
   "outputs": [],
   "source": [
    "q_extractor.quantize_params()"
   ]
  },
  {
   "cell_type": "code",
   "execution_count": 14,
   "metadata": {},
   "outputs": [
    {
     "data": {
      "image/png": "[encoded data removed]",
      "text/plain": [
       "<Figure size 640x480 with 1 Axes>"
      ]
     },
     "metadata": {},
     "output_type": "display_data"
    }
   ],
   "source": [
    "weights = extractor.conv1.weight.view(-1)\n",
    "weights = weights.cpu().detach().numpy()\n",
    "\n",
    "# w_quantize = q_extractor.encoder.conv1.weight.view(-1)\n",
    "# w_quantize = w_quantize.cpu().detach().numpy()\n",
    "\n",
    "w_quantize = qvo.patchify.fnet.encoder.conv1.weight.view(-1)\n",
    "w_quantize = w_quantize.cpu().detach().numpy()\n",
    "\n",
    "\n",
    "# # plot weighst as a histogram\n",
    "import matplotlib.pyplot as plt\n",
    "plt.hist(weights, bins=50, alpha=0.3, label=\"float32\")\n",
    "\n",
    "plt.hist(w_quantize, bins=50, color=\"purple\", alpha=0.3, label=\"6 bit\")\n",
    "\n",
    "\n",
    "plt.title(\"Layer Weight Distribution vs Number of Bits\")\n",
    "plt.xlabel(\"Weight Value\")\n",
    "plt.ylabel(\"Frequency\")\n",
    "plt.legend()\n",
    "plt.show()\n",
    "\n"
   ]
  },
  {
   "cell_type": "code",
   "execution_count": 3,
   "metadata": {},
   "outputs": [],
   "source": [
    "trained_fnet = slam.network.patchify.fnet\n",
    "trained_inet = slam.network.patchify.inet"
   ]
  },
  {
   "cell_type": "code",
   "execution_count": 9,
   "metadata": {},
   "outputs": [],
   "source": [
    "qpatch = QuantizedPatchifier(num_bits=8)\n",
    "qpatch.copy_and_quantize(trained_fnet, trained_inet)"
   ]
  },
  {
   "cell_type": "code",
   "execution_count": 10,
   "metadata": {},
   "outputs": [
    {
     "data": {
      "text/plain": [
       "tensor([-0.0547, -0.0508, -0.0039, -0.0469, -0.0586], device='cuda:0',\n",
       "       grad_fn=<SliceBackward0>)"
      ]
     },
     "execution_count": 10,
     "metadata": {},
     "output_type": "execute_result"
    }
   ],
   "source": [
    "qpatch.fnet.encoder.conv1.weight.view(-1)[0:5]"
   ]
  },
  {
   "cell_type": "code",
   "execution_count": 4,
   "metadata": {},
   "outputs": [],
   "source": [
    "qvo = copy.deepcopy(slam.network)"
   ]
  },
  {
   "cell_type": "code",
   "execution_count": 6,
   "metadata": {},
   "outputs": [],
   "source": [
    "qvo.swap_patchifier(8, trained_fnet, trained_inet)"
   ]
  },
  {
   "cell_type": "code",
   "execution_count": 10,
   "metadata": {},
   "outputs": [
    {
     "data": {
      "text/plain": [
       "dpvo.net.QuantizedPatchifier"
      ]
     },
     "execution_count": 10,
     "metadata": {},
     "output_type": "execute_result"
    }
   ],
   "source": [
    "qvo.patchify.fnet.encoder.conv1.weight.view(-1)[0:5] - qpatch.fnet.encoder.conv1.weight.view(-1)"
   ]
  }
 ],
 "metadata": {
  "kernelspec": {
   "display_name": "coppelia",
   "language": "python",
   "name": "python3"
  },
  "language_info": {
   "codemirror_mode": {
    "name": "ipython",
    "version": 3
   },
   "file_extension": ".py",
   "mimetype": "text/x-python",
   "name": "python",
   "nbconvert_exporter": "python",
   "pygments_lexer": "ipython3",
   "version": "3.8.13"
  },
  "orig_nbformat": 4
 },
 "nbformat": 4,
 "nbformat_minor": 2
}
